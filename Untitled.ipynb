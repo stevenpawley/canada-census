{
 "cells": [
  {
   "cell_type": "code",
   "execution_count": null,
   "id": "9d035fa2-0227-4ce2-a6a4-141f59b42b0c",
   "metadata": {},
   "outputs": [],
   "source": [
    "import os\n",
    "import grass.script as gs\n",
    "import sqlite3\n",
    "from grass.pygrass.vector import VectorTopo"
   ]
  },
  {
   "cell_type": "code",
   "execution_count": 7,
   "id": "5ff1b82a-fe93-4fad-a14a-f4a338c733cf",
   "metadata": {},
   "outputs": [],
   "source": [
    "gisdbase = gs.gisenv()[\"GISDBASE\"]\n",
    "location = gs.gisenv()[\"LOCATION_NAME\"]\n",
    "mapset = gs.gisenv()[\"MAPSET\"]"
   ]
  },
  {
   "cell_type": "code",
   "execution_count": 9,
   "id": "6bf1cbcf-491e-49cf-ba6f-808c0d63be6d",
   "metadata": {},
   "outputs": [],
   "source": [
    "conn = sqlite3.connect(\n",
    "    os.path.join(gisdbase, location, mapset, \"sqlite\", \"sqlite.db\")\n",
    ")"
   ]
  },
  {
   "cell_type": "code",
   "execution_count": null,
   "id": "9312971e-2937-4c8c-84c7-2fe6154e1823",
   "metadata": {},
   "outputs": [],
   "source": []
  }
 ],
 "metadata": {
  "kernelspec": {
   "display_name": "Python 3 (ipykernel)",
   "language": "python",
   "name": "python3"
  },
  "language_info": {
   "codemirror_mode": {
    "name": "ipython",
    "version": 3
   },
   "file_extension": ".py",
   "mimetype": "text/x-python",
   "name": "python",
   "nbconvert_exporter": "python",
   "pygments_lexer": "ipython3",
   "version": "3.10.14"
  }
 },
 "nbformat": 4,
 "nbformat_minor": 5
}
