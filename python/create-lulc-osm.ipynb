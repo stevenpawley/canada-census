{
 "cells": [
  {
   "cell_type": "code",
   "execution_count": 1,
   "id": "5cb54a9d",
   "metadata": {},
   "outputs": [],
   "source": [
    "import os\n",
    "from pathlib import Path\n",
    "import pandas as pd\n",
    "import geopandas as gpd\n",
    "from urllib.request import urlretrieve\n",
    "from zipfile import ZipFile"
   ]
  },
  {
   "cell_type": "markdown",
   "id": "c2cefb66",
   "metadata": {},
   "source": [
    "Download files from https://download.geofabrik.de/:"
   ]
  },
  {
   "cell_type": "code",
   "execution_count": 11,
   "id": "5a10eab5",
   "metadata": {},
   "outputs": [
    {
     "data": {
      "text/plain": [
       "('../data/ab-osm.zip', <http.client.HTTPMessage at 0x731289b3bed0>)"
      ]
     },
     "execution_count": 11,
     "metadata": {},
     "output_type": "execute_result"
    }
   ],
   "source": [
    "ab_url = \"https://download.geofabrik.de/north-america/canada/alberta-latest-free.shp.zip\"\n",
    "urlretrieve(ab_url, \"../data/ab-osm.zip\")"
   ]
  },
  {
   "cell_type": "code",
   "execution_count": 12,
   "id": "98063834",
   "metadata": {},
   "outputs": [],
   "source": [
    "with ZipFile(\"../data/ab-osm.zip\", \"r\") as zObject:\n",
    "    zObject.extractall(path=\"../data/raw/osm-data\")"
   ]
  },
  {
   "cell_type": "code",
   "execution_count": null,
   "id": "bcf218e1",
   "metadata": {},
   "outputs": [],
   "source": [
    "osm = list()\n",
    "p = Path(\"../data/raw/osm-data/\")\n",
    "for i in p.glob(\"*.shp\"):\n",
    "    df = gpd.read_file(i, engine=\"pyogrio\")\n",
    "    keyname = i.name.replace(\"gis_osm_\", \"\").replace(\"_free_1.shp\", \"\")\n",
    "    df[\"key\"] = keyname\n",
    "    osm.append(df)\n",
    "\n",
    "osm = pd.concat(osm)\n",
    "osm = gpd.GeoDataFrame(osm)\n",
    "osm.head()"
   ]
  },
  {
   "cell_type": "code",
   "execution_count": null,
   "id": "615086bb",
   "metadata": {},
   "outputs": [],
   "source": [
    "try:\n",
    "    os.makedirs(\"../data/processed\")\n",
    "except FileExistsError:\n",
    "    pass\n",
    "\n",
    "osm.to_file(\"../data/processed/osm.gpkg\", driver=\"GPKG\")"
   ]
  },
  {
   "cell_type": "code",
   "execution_count": null,
   "id": "06cd35c2",
   "metadata": {},
   "outputs": [],
   "source": [
    "schema = pd.read_csv(\"../data/tables/osm-lulc.csv\")\n",
    "schema = schema.dropna(subset=\"lulc\")\n",
    "schema"
   ]
  },
  {
   "cell_type": "code",
   "execution_count": null,
   "id": "b73575d4",
   "metadata": {},
   "outputs": [],
   "source": [
    "lulc_classes <- unique(schema$lulc)\n",
    "\n",
    "for (lulc_class in lulc_classes) {\n",
    "  keys <- schema |>\n",
    "    filter(lulc == lulc_class) |>\n",
    "    distinct(key) |>\n",
    "    pluck(\"key\")\n",
    "\n",
    "  lulc_res <- list()\n",
    "\n",
    "  for (k in keys) {\n",
    "    values <- schema |>\n",
    "      filter(lulc == lulc_class, key == k) |>\n",
    "      distinct(value) |>\n",
    "      pluck(\"value\")\n",
    "\n",
    "    data <- q |>\n",
    "      add_osm_feature(key = k, value = values) |>\n",
    "      osmdata_sf()\n",
    "    data <- data$osm_polygons\n",
    "    lulc_res[[k]] <- data\n",
    "  }\n",
    "\n",
    "  if (length(lulc_res) > 1) {\n",
    "    lulc_res <- bind_rows(lulc_res)\n",
    "  } else {\n",
    "    lulc_res <- lulc_res[[1]]\n",
    "  }\n",
    "  osm[[lulc_class]] <- lulc_res\n",
    "}\n",
    "\n",
    "osm <- bind_rows(osm, .id = \"lulc\")\n",
    "unique(osm$lulc)"
   ]
  },
  {
   "cell_type": "code",
   "execution_count": 14,
   "id": "0c860fb0",
   "metadata": {},
   "outputs": [
    {
     "data": {
      "text/plain": [
       "array(['urban-low-density', 'commerical/residential/industrial',\n",
       "       'developed-open-space', 'developed-construction', 'water',\n",
       "       'snow_ice', 'rock_soil', 'forest', 'scrubland', 'grassland',\n",
       "       'wetland', 'urban_open', 'urban_low', 'urban_construction',\n",
       "       'urban_high', 'cropland'], dtype=object)"
      ]
     },
     "execution_count": 14,
     "metadata": {},
     "output_type": "execute_result"
    }
   ],
   "source": [
    "lulc_classes = schema[\"lulc\"].unique()\n",
    "lulc_classes"
   ]
  },
  {
   "cell_type": "code",
   "execution_count": null,
   "id": "9541b084",
   "metadata": {},
   "outputs": [],
   "source": [
    "for lulc_class in lulc_classes:\n",
    "    keys = schema.loc[schema.lulc == lulc_class]\n",
    "    keys = keys[\"key\"].unique()\n",
    "    \n",
    "    lulc_res = list()\n",
    "    \n",
    "    for k in keys:\n",
    "        values = schema.loc[(schema.lulc == lulc_class) & (schema.key == k)]\n",
    "        "
   ]
  },
  {
   "cell_type": "code",
   "execution_count": null,
   "id": "01b978c9",
   "metadata": {},
   "outputs": [],
   "source": [
    "with open(\"landcover-osm.yaml\", \"r\") as f:\n",
    "    schema = yaml.safe_load(f)\n",
    "\n",
    "file_keys = [\"landuse\", \"natural\", \"pofw\", \"pois\", \"traffic\", \"transport\", \"water\",\n",
    "             \"buildings\"]\n",
    "geometries = list()\n",
    "\n",
    "for f in file_keys:\n",
    "    df = gpd.read_file(f\"data/alberta-latest-free/gis_osm_{f}_a_free_1.shp\")\n",
    "    df[\"key\"] = f\n",
    "    geometries.append(df)\n",
    "\n",
    "osm = pd.concat(geometries)\n",
    "\n",
    "lc_types = list()\n",
    "\n",
    "for lulc, tags in schema.items():\n",
    "    for key, values in tags.items():\n",
    "        if isinstance(values, str):\n",
    "            values = [values]\n",
    "        df = osm.loc[osm.fclass.isin(values)]\n",
    "        df[\"lulc\"] = lulc\n",
    "        lc_types.append(df)\n",
    "\n",
    "lc_types = pd.concat(lc_types)\n",
    "lc_types.loc[lc_types.lulc == \"water\"].plot(column=\"fclass\")\n",
    "\n",
    "geom = lc_types.loc[lc_types.lulc == \"water\"]\n",
    "geom = geom.to_json()\n",
    "geo_j = folium.GeoJson(geom)\n",
    "m = folium.Map(tiles=\"CartoDB Positron\")\n",
    "geo_j.add_to(m)\n",
    "m"
   ]
  }
 ],
 "metadata": {
  "kernelspec": {
   "display_name": "census",
   "language": "python",
   "name": "census"
  },
  "language_info": {
   "codemirror_mode": {
    "name": "ipython",
    "version": 3
   },
   "file_extension": ".py",
   "mimetype": "text/x-python",
   "name": "python",
   "nbconvert_exporter": "python",
   "pygments_lexer": "ipython3",
   "version": "3.11.9"
  }
 },
 "nbformat": 4,
 "nbformat_minor": 5
}
