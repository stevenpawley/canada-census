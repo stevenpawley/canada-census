{
 "cells": [
  {
   "cell_type": "code",
   "execution_count": null,
   "id": "5cb54a9d",
   "metadata": {},
   "outputs": [],
   "source": [
    "import os\n",
    "import re\n",
    "import folium\n",
    "import pandas as pd\n",
    "import geopandas as gpd\n",
    "import osmnx as ox\n",
    "from pathlib import Path\n",
    "from urllib.request import urlretrieve\n",
    "from zipfile import ZipFile"
   ]
  },
  {
   "cell_type": "markdown",
   "id": "c2cefb66",
   "metadata": {},
   "source": [
    "Download files from https://download.geofabrik.de/:"
   ]
  },
  {
   "cell_type": "code",
   "execution_count": 11,
   "id": "5a10eab5",
   "metadata": {},
   "outputs": [
    {
     "data": {
      "text/plain": [
       "('../data/ab-osm.zip', <http.client.HTTPMessage at 0x731289b3bed0>)"
      ]
     },
     "execution_count": 11,
     "metadata": {},
     "output_type": "execute_result"
    }
   ],
   "source": [
    "ab_url = \"https://download.geofabrik.de/north-america/canada/alberta-latest-free.shp.zip\"\n",
    "urlretrieve(ab_url, \"../data/ab-osm.zip\")"
   ]
  },
  {
   "cell_type": "code",
   "execution_count": null,
   "id": "6031adc2",
   "metadata": {},
   "outputs": [],
   "source": [
    "with ZipFile(\"../data/ab-osm.zip\", \"r\") as zObject:\n",
    "    zObject.extractall(path=\"../data/raw/osm-data\")\n",
    "\n",
    "os.unlink(\"../data/ab-osm.zip\")"
   ]
  },
  {
   "cell_type": "code",
   "execution_count": 18,
   "id": "bcf218e1",
   "metadata": {},
   "outputs": [
    {
     "data": {
      "text/html": [
       "<div>\n",
       "<style scoped>\n",
       "    .dataframe tbody tr th:only-of-type {\n",
       "        vertical-align: middle;\n",
       "    }\n",
       "\n",
       "    .dataframe tbody tr th {\n",
       "        vertical-align: top;\n",
       "    }\n",
       "\n",
       "    .dataframe thead th {\n",
       "        text-align: right;\n",
       "    }\n",
       "</style>\n",
       "<table border=\"1\" class=\"dataframe\">\n",
       "  <thead>\n",
       "    <tr style=\"text-align: right;\">\n",
       "      <th></th>\n",
       "      <th>key</th>\n",
       "      <th>value</th>\n",
       "      <th>name</th>\n",
       "      <th>geometry</th>\n",
       "    </tr>\n",
       "  </thead>\n",
       "  <tbody>\n",
       "    <tr>\n",
       "      <th>0</th>\n",
       "      <td>landuse</td>\n",
       "      <td>park</td>\n",
       "      <td>Nose Hill Park</td>\n",
       "      <td>POLYGON ((-114.13938 51.10938, -114.13937 51.1...</td>\n",
       "    </tr>\n",
       "    <tr>\n",
       "      <th>1</th>\n",
       "      <td>landuse</td>\n",
       "      <td>park</td>\n",
       "      <td>West Confederation Park</td>\n",
       "      <td>POLYGON ((-114.11515 51.08155, -114.11496 51.0...</td>\n",
       "    </tr>\n",
       "    <tr>\n",
       "      <th>2</th>\n",
       "      <td>landuse</td>\n",
       "      <td>park</td>\n",
       "      <td>Cochrane Ranche</td>\n",
       "      <td>POLYGON ((-114.48593 51.19858, -114.48541 51.1...</td>\n",
       "    </tr>\n",
       "    <tr>\n",
       "      <th>3</th>\n",
       "      <td>landuse</td>\n",
       "      <td>park</td>\n",
       "      <td>Mitford Park</td>\n",
       "      <td>POLYGON ((-114.49651 51.19028, -114.49649 51.1...</td>\n",
       "    </tr>\n",
       "    <tr>\n",
       "      <th>4</th>\n",
       "      <td>landuse</td>\n",
       "      <td>park</td>\n",
       "      <td>W.D. Kerfoot Park</td>\n",
       "      <td>POLYGON ((-114.47413 51.19595, -114.47371 51.1...</td>\n",
       "    </tr>\n",
       "  </tbody>\n",
       "</table>\n",
       "</div>"
      ],
      "text/plain": [
       "       key value                     name                                           geometry\n",
       "0  landuse  park           Nose Hill Park  POLYGON ((-114.13938 51.10938, -114.13937 51.1...\n",
       "1  landuse  park  West Confederation Park  POLYGON ((-114.11515 51.08155, -114.11496 51.0...\n",
       "2  landuse  park          Cochrane Ranche  POLYGON ((-114.48593 51.19858, -114.48541 51.1...\n",
       "3  landuse  park             Mitford Park  POLYGON ((-114.49651 51.19028, -114.49649 51.1...\n",
       "4  landuse  park        W.D. Kerfoot Park  POLYGON ((-114.47413 51.19595, -114.47371 51.1..."
      ]
     },
     "execution_count": null,
     "metadata": {},
     "output_type": "execute_result"
    }
   ],
   "source": [
    "osm = list()\n",
    "p = Path(\"../data/raw/osm-data/\")\n",
    "for i in p.glob(\"*.shp\"):\n",
    "    df = gpd.read_file(i, engine=\"pyogrio\")\n",
    "    key_name = re.sub(\"gis_osm_|_a|_free_1|.shp\", \"\", i.name)\n",
    "    df[\"key\"] = key_name\n",
    "    osm.append(df)\n",
    "\n",
    "osm = pd.concat(osm)\n",
    "osm = gpd.GeoDataFrame(osm)\n",
    "osm = osm.loc[:, [\"key\", \"fclass\", \"name\", \"geometry\"]]\n",
    "osm = osm.rename({\"fclass\": \"value\"}, axis=1)\n",
    "osm.head()"
   ]
  },
  {
   "cell_type": "code",
   "execution_count": 27,
   "id": "615086bb",
   "metadata": {},
   "outputs": [],
   "source": [
    "try:\n",
    "    os.makedirs(\"../data/processed\")\n",
    "except FileExistsError:\n",
    "    pass\n",
    "\n",
    "osm.to_file(\"../data/processed/osm.gpkg\", driver=\"GPKG\")"
   ]
  },
  {
   "cell_type": "code",
   "execution_count": 23,
   "id": "626d0d2e",
   "metadata": {},
   "outputs": [
    {
     "data": {
      "text/html": [
       "<div>\n",
       "<style scoped>\n",
       "    .dataframe tbody tr th:only-of-type {\n",
       "        vertical-align: middle;\n",
       "    }\n",
       "\n",
       "    .dataframe tbody tr th {\n",
       "        vertical-align: top;\n",
       "    }\n",
       "\n",
       "    .dataframe thead th {\n",
       "        text-align: right;\n",
       "    }\n",
       "</style>\n",
       "<table border=\"1\" class=\"dataframe\">\n",
       "  <thead>\n",
       "    <tr style=\"text-align: right;\">\n",
       "      <th></th>\n",
       "      <th>key</th>\n",
       "      <th>value</th>\n",
       "      <th>name</th>\n",
       "      <th>geometry</th>\n",
       "    </tr>\n",
       "  </thead>\n",
       "  <tbody>\n",
       "    <tr>\n",
       "      <th>0</th>\n",
       "      <td>transport</td>\n",
       "      <td>apron</td>\n",
       "      <td>None</td>\n",
       "      <td>POLYGON ((-113.07905 53.72801, -113.07896 53.7...</td>\n",
       "    </tr>\n",
       "    <tr>\n",
       "      <th>1</th>\n",
       "      <td>transport</td>\n",
       "      <td>apron</td>\n",
       "      <td>None</td>\n",
       "      <td>POLYGON ((-113.59230 53.30792, -113.58939 53.3...</td>\n",
       "    </tr>\n",
       "    <tr>\n",
       "      <th>2</th>\n",
       "      <td>transport</td>\n",
       "      <td>airport</td>\n",
       "      <td>Peace River Airport</td>\n",
       "      <td>POLYGON ((-117.46573 56.21861, -117.46557 56.2...</td>\n",
       "    </tr>\n",
       "    <tr>\n",
       "      <th>3</th>\n",
       "      <td>transport</td>\n",
       "      <td>airport</td>\n",
       "      <td>Edmonton International Airport</td>\n",
       "      <td>POLYGON ((-113.61016 53.30148, -113.61005 53.3...</td>\n",
       "    </tr>\n",
       "    <tr>\n",
       "      <th>4</th>\n",
       "      <td>transport</td>\n",
       "      <td>apron</td>\n",
       "      <td>None</td>\n",
       "      <td>POLYGON ((-112.78989 49.63371, -112.78983 49.6...</td>\n",
       "    </tr>\n",
       "  </tbody>\n",
       "</table>\n",
       "</div>"
      ],
      "text/plain": [
       "         key    value                            name  \\\n",
       "0  transport    apron                            None   \n",
       "1  transport    apron                            None   \n",
       "2  transport  airport             Peace River Airport   \n",
       "3  transport  airport  Edmonton International Airport   \n",
       "4  transport    apron                            None   \n",
       "\n",
       "                                            geometry  \n",
       "0  POLYGON ((-113.07905 53.72801, -113.07896 53.7...  \n",
       "1  POLYGON ((-113.59230 53.30792, -113.58939 53.3...  \n",
       "2  POLYGON ((-117.46573 56.21861, -117.46557 56.2...  \n",
       "3  POLYGON ((-113.61016 53.30148, -113.61005 53.3...  \n",
       "4  POLYGON ((-112.78989 49.63371, -112.78983 49.6...  "
      ]
     },
     "execution_count": 23,
     "metadata": {},
     "output_type": "execute_result"
    }
   ],
   "source": [
    "osm = gpd.read_file(\"../data/processed/osm.gpkg\", engine=\"pyogrio\")\n",
    "osm = osm.loc[osm.geometry.geom_type == \"Polygon\"]\n",
    "osm.head()"
   ]
  },
  {
   "cell_type": "code",
   "execution_count": null,
   "id": "06cd35c2",
   "metadata": {},
   "outputs": [],
   "source": [
    "schema = pd.read_csv(\"../data/tables/osm-lulc.csv\")\n",
    "schema = schema.dropna(subset=\"lulc\")\n",
    "schema.head()"
   ]
  },
  {
   "cell_type": "code",
   "execution_count": 27,
   "id": "9d49f25b",
   "metadata": {},
   "outputs": [
    {
     "data": {
      "text/html": [
       "<div>\n",
       "<style scoped>\n",
       "    .dataframe tbody tr th:only-of-type {\n",
       "        vertical-align: middle;\n",
       "    }\n",
       "\n",
       "    .dataframe tbody tr th {\n",
       "        vertical-align: top;\n",
       "    }\n",
       "\n",
       "    .dataframe thead th {\n",
       "        text-align: right;\n",
       "    }\n",
       "</style>\n",
       "<table border=\"1\" class=\"dataframe\">\n",
       "  <thead>\n",
       "    <tr style=\"text-align: right;\">\n",
       "      <th></th>\n",
       "      <th>key</th>\n",
       "      <th>value</th>\n",
       "      <th>name</th>\n",
       "      <th>geometry</th>\n",
       "      <th>lulc</th>\n",
       "    </tr>\n",
       "  </thead>\n",
       "  <tbody>\n",
       "    <tr>\n",
       "      <th>0</th>\n",
       "      <td>landuse</td>\n",
       "      <td>retail</td>\n",
       "      <td>None</td>\n",
       "      <td>POLYGON ((-114.15886 51.08555, -114.15862 51.0...</td>\n",
       "      <td>urban_high</td>\n",
       "    </tr>\n",
       "    <tr>\n",
       "      <th>1</th>\n",
       "      <td>landuse</td>\n",
       "      <td>retail</td>\n",
       "      <td>Chinook Centre</td>\n",
       "      <td>POLYGON ((-114.07618 50.99760, -114.07617 50.9...</td>\n",
       "      <td>urban_high</td>\n",
       "    </tr>\n",
       "    <tr>\n",
       "      <th>2</th>\n",
       "      <td>landuse</td>\n",
       "      <td>retail</td>\n",
       "      <td>Dalhousie Station</td>\n",
       "      <td>POLYGON ((-114.16421 51.10555, -114.16240 51.1...</td>\n",
       "      <td>urban_high</td>\n",
       "    </tr>\n",
       "    <tr>\n",
       "      <th>3</th>\n",
       "      <td>landuse</td>\n",
       "      <td>retail</td>\n",
       "      <td>Crowchild Square</td>\n",
       "      <td>POLYGON ((-114.16627 51.10372, -114.16589 51.1...</td>\n",
       "      <td>urban_high</td>\n",
       "    </tr>\n",
       "    <tr>\n",
       "      <th>4</th>\n",
       "      <td>landuse</td>\n",
       "      <td>retail</td>\n",
       "      <td>None</td>\n",
       "      <td>POLYGON ((-114.15018 51.10117, -114.14980 51.1...</td>\n",
       "      <td>urban_high</td>\n",
       "    </tr>\n",
       "  </tbody>\n",
       "</table>\n",
       "</div>"
      ],
      "text/plain": [
       "       key   value               name  \\\n",
       "0  landuse  retail               None   \n",
       "1  landuse  retail     Chinook Centre   \n",
       "2  landuse  retail  Dalhousie Station   \n",
       "3  landuse  retail   Crowchild Square   \n",
       "4  landuse  retail               None   \n",
       "\n",
       "                                            geometry        lulc  \n",
       "0  POLYGON ((-114.15886 51.08555, -114.15862 51.0...  urban_high  \n",
       "1  POLYGON ((-114.07618 50.99760, -114.07617 50.9...  urban_high  \n",
       "2  POLYGON ((-114.16421 51.10555, -114.16240 51.1...  urban_high  \n",
       "3  POLYGON ((-114.16627 51.10372, -114.16589 51.1...  urban_high  \n",
       "4  POLYGON ((-114.15018 51.10117, -114.14980 51.1...  urban_high  "
      ]
     },
     "execution_count": 27,
     "metadata": {},
     "output_type": "execute_result"
    }
   ],
   "source": [
    "osm_lulc = osm.merge(schema, on=[\"key\", \"value\"], how=\"inner\")\n",
    "osm_lulc.head()"
   ]
  },
  {
   "cell_type": "code",
   "execution_count": 30,
   "id": "abeb0ef5",
   "metadata": {},
   "outputs": [],
   "source": [
    "osm_lulc.to_file(\"../data/processed/osm-lulc.gpkg\",\n",
    "                 driver=\"GPKG\",\n",
    "                 engine=\"pyogrio\")"
   ]
  },
  {
   "cell_type": "code",
   "execution_count": 32,
   "id": "cf79a9f8",
   "metadata": {},
   "outputs": [
    {
     "data": {
      "text/plain": [
       "array(['urban_high', 'urban_open', 'forest', 'cropland', 'rock_soil',\n",
       "       'urban_low', 'grassland', 'water', 'wetland', 'snow_ice'],\n",
       "      dtype=object)"
      ]
     },
     "execution_count": 32,
     "metadata": {},
     "output_type": "execute_result"
    }
   ],
   "source": [
    "osm_lulc.lulc.unique()"
   ]
  },
  {
   "cell_type": "code",
   "execution_count": null,
   "id": "01b978c9",
   "metadata": {},
   "outputs": [],
   "source": [
    "geom = osm_lulc.loc[osm_lulc.lulc == \"urban_low\"]\n",
    "geom = geom.to_json()\n",
    "geo_j = folium.GeoJson(geom)\n",
    "m = folium.Map(tiles=\"CartoDB Positron\")\n",
    "geo_j.add_to(m)\n",
    "m"
   ]
  },
  {
   "cell_type": "code",
   "execution_count": null,
   "id": "491f9263",
   "metadata": {},
   "outputs": [],
   "source": [
    "bbox=(53.9, 53.3, -113.0, -113.9)\n",
    "osm_dfs = list()\n",
    "\n",
    "for key in schema.key.unique():\n",
    "    values = schema.loc[schema.key == key, \"value\"].unique()\n",
    "    tags = {\"building\": list(values)}\n",
    "    df = ox.features_from_bbox(bbox=bbox, tags=tags)\n",
    "    df.reset_index(inplace=True)\n",
    "    df = osm.loc[df.element_type.isin([\"relation\", \"way\"]), :]\n",
    "    osm_dfs.append(df)"
   ]
  },
  {
   "cell_type": "code",
   "execution_count": null,
   "id": "1e4d5177",
   "metadata": {},
   "outputs": [],
   "source": []
  }
 ],
 "metadata": {
  "kernelspec": {
   "display_name": "census",
   "language": "python",
   "name": "census"
  },
  "language_info": {
   "codemirror_mode": {
    "name": "ipython",
    "version": 3
   },
   "file_extension": ".py",
   "mimetype": "text/x-python",
   "name": "python",
   "nbconvert_exporter": "python",
   "pygments_lexer": "ipython3",
   "version": "3.11.9"
  }
 },
 "nbformat": 4,
 "nbformat_minor": 5
}
